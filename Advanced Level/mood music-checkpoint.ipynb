{
 "cells": [
  {
   "cell_type": "code",
   "execution_count": null,
   "id": "2b6f114b-e388-4b1d-b9bb-2c4bd7597b35",
   "metadata": {},
   "outputs": [],
   "source": [
    "import spotipy\n",
    "from spotipy.oauth2 import SpotifyClientCredentials, SpotifyOAuth\n",
    "\n",
    "# Set up Spotify API credentials\n",
    "CLIENT_ID = \"your_client_id\"\n",
    "CLIENT_SECRET = \"your_client_secret\"\n",
    "REDIRECT_URI = \"http://localhost:8080\"\n",
    "\n",
    "# Initialize Spotipy with user authentication\n",
    "sp = spotipy.Spotify(auth_manager=SpotifyOAuth(\n",
    "    client_id=CLIENT_ID,\n",
    "    client_secret=CLIENT_SECRET,\n",
    "    redirect_uri=REDIRECT_URI,\n",
    "    scope=\"playlist-read-private\"\n",
    "))\n",
    "\n",
    "# Define mood-to-genre mapping\n",
    "MOOD_TO_GENRE = {\n",
    "    \"HAPPY\": \"pop\",\n",
    "    \"SAD\": \"acoustic\",\n",
    "    \"FOCUSED\": \"classical\",\n",
    "    \"RELAXED\": \"chill\"\n",
    "}\n",
    "\n",
    "def get_recommendations(mood):\n",
    "    \"\"\"Fetch playlist recommendations based on mood.\"\"\"\n",
    "    # Convert input to uppercase to match dictionary keys\n",
    "    mood = mood.upper()\n",
    "\n",
    "    if mood not in MOOD_TO_GENRE:\n",
    "        return f\"Mood '{mood}' is not supported. Try: {', '.join(MOOD_TO_GENRE.keys())}\"\n",
    "    \n",
    "    genre = MOOD_TO_GENRE[mood]\n",
    "    results = sp.search(q=f\"genre:{genre}\", type=\"playlist\", limit=5)\n",
    "    \n",
    "    if not results['playlists']['items']:\n",
    "        return f\"No playlists found for mood '{mood}'.\"\n",
    "    \n",
    "    response = f\"Top playlists for '{mood}':\\n\"\n",
    "    for idx, playlist in enumerate(results['playlists']['items'], start=1):\n",
    "        response += f\"{idx}. {playlist['name']} - {playlist['external_urls']['spotify']}\\n\"\n",
    "    \n",
    "    return response\n",
    "\n",
    "# Main program\n",
    "if __name__ == \"__main__\":\n",
    "    print(\"Welcome to the Mood-Based Music Recommender!\")\n",
    "    print(\"Available moods: Happy, Sad, Focused, Relaxed\")\n",
    "    \n",
    "    user_mood = input(\"Enter your mood: \").strip()\n",
    "    recommendations = get_recommendations(user_mood)\n",
    "    print(recommendations)\n"
   ]
  }
 ],
 "metadata": {
  "kernelspec": {
   "display_name": "Python 3 (ipykernel)",
   "language": "python",
   "name": "python3"
  },
  "language_info": {
   "codemirror_mode": {
    "name": "ipython",
    "version": 3
   },
   "file_extension": ".py",
   "mimetype": "text/x-python",
   "name": "python",
   "nbconvert_exporter": "python",
   "pygments_lexer": "ipython3",
   "version": "3.13.0"
  }
 },
 "nbformat": 4,
 "nbformat_minor": 5
}
