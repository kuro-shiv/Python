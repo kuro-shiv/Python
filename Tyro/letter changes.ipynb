{
 "cells": [
  {
   "cell_type": "code",
   "execution_count": 1,
   "id": "23edd93b-fc85-4bbc-bf6d-3cfab8202329",
   "metadata": {},
   "outputs": [
    {
     "name": "stdout",
     "output_type": "stream",
     "text": [
      "Ifmmp xspmE bOljU Ipx bsf zpv\n"
     ]
    }
   ],
   "source": [
    "def LetterChanges(str):\n",
    "  result = \"\"\n",
    "\n",
    "  for x in str:\n",
    "    if x == \"z\": \n",
    "      newChar = \"a\"\n",
    "    elif x == \"Z\":\n",
    "      newChar = \"A\"\n",
    "    elif x.isalpha():\n",
    "      newChar = chr(ord(x) + 1)\n",
    "    else:\n",
    "      newChar = x\n",
    "\n",
    "    if newChar in \"aeiou\":\n",
    "      newChar = newChar.upper()\n",
    "    result = result + newChar\n",
    "\n",
    "  return result\n",
    "str = \"hello wrold ankit how are you\"\n",
    "print (LetterChanges(str))"
   ]
  },
  {
   "cell_type": "code",
   "execution_count": null,
   "id": "3d33e850-b428-4655-aae6-b6e24fa4f95c",
   "metadata": {},
   "outputs": [],
   "source": []
  }
 ],
 "metadata": {
  "kernelspec": {
   "display_name": "Python 3 (ipykernel)",
   "language": "python",
   "name": "python3"
  },
  "language_info": {
   "codemirror_mode": {
    "name": "ipython",
    "version": 3
   },
   "file_extension": ".py",
   "mimetype": "text/x-python",
   "name": "python",
   "nbconvert_exporter": "python",
   "pygments_lexer": "ipython3",
   "version": "3.13.0"
  }
 },
 "nbformat": 4,
 "nbformat_minor": 5
}
