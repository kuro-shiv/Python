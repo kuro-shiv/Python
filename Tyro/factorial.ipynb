{
 "cells": [
  {
   "cell_type": "code",
   "execution_count": 10,
   "id": "434c54d3-996f-48b4-8ed0-4474782d837a",
   "metadata": {},
   "outputs": [
    {
     "name": "stdout",
     "output_type": "stream",
     "text": [
      "enter a number\n"
     ]
    },
    {
     "name": "stdin",
     "output_type": "stream",
     "text": [
      "None 3\n"
     ]
    },
    {
     "name": "stdout",
     "output_type": "stream",
     "text": [
      "6\n"
     ]
    }
   ],
   "source": [
    "def factorial(num):\n",
    "    fac = 1\n",
    "    for i in range (1, num + 1):\n",
    "        fac = fac * i\n",
    "    return fac\n",
    "\n",
    "\n",
    "num = input(print(\"enter a number\"))\n",
    "num = int (num)\n",
    "\n",
    "\n",
    "\n",
    "print (factorial(num))"
   ]
  },
  {
   "cell_type": "code",
   "execution_count": null,
   "id": "0a5d5bf9-9682-46d5-accf-f4b9c9b2017c",
   "metadata": {},
   "outputs": [],
   "source": []
  }
 ],
 "metadata": {
  "kernelspec": {
   "display_name": "Python 3 (ipykernel)",
   "language": "python",
   "name": "python3"
  },
  "language_info": {
   "codemirror_mode": {
    "name": "ipython",
    "version": 3
   },
   "file_extension": ".py",
   "mimetype": "text/x-python",
   "name": "python",
   "nbconvert_exporter": "python",
   "pygments_lexer": "ipython3",
   "version": "3.13.0"
  }
 },
 "nbformat": 4,
 "nbformat_minor": 5
}
