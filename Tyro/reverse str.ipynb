{
 "cells": [
  {
   "cell_type": "code",
   "execution_count": 3,
   "id": "9c566dfe-4090-42f7-bb1f-a8907df2b578",
   "metadata": {},
   "outputs": [
    {
     "name": "stdout",
     "output_type": "stream",
     "text": [
      "enter a string\n"
     ]
    },
    {
     "name": "stdin",
     "output_type": "stream",
     "text": [
      "None hello ankit how are you\n"
     ]
    },
    {
     "name": "stdout",
     "output_type": "stream",
     "text": [
      "uoy era woh tikna olleh\n"
     ]
    }
   ],
   "source": [
    "input_str = input(print(\"enter a string\"))\n",
    "\n",
    "\n",
    "rev_list = reversed(list(input_str))\n",
    "\n",
    "output_str =''\n",
    "\n",
    "for letter in rev_list:\n",
    "    output_str = output_str + letter\n",
    "\n",
    "\n",
    "    \n",
    "print (output_str)\n",
    "    "
   ]
  },
  {
   "cell_type": "code",
   "execution_count": 5,
   "id": "ea4a9c32-f25e-4488-b3c0-c3bc607ac68a",
   "metadata": {},
   "outputs": [
    {
     "name": "stdout",
     "output_type": "stream",
     "text": [
      "enter a string\n"
     ]
    },
    {
     "name": "stdin",
     "output_type": "stream",
     "text": [
      "None hello shivam\n"
     ]
    },
    {
     "name": "stdout",
     "output_type": "stream",
     "text": [
      "mavihs olleh\n"
     ]
    }
   ],
   "source": [
    "input_str = input(print(\"enter a string\"))\n",
    "\n",
    "print (input_str [::-1])"
   ]
  },
  {
   "cell_type": "code",
   "execution_count": null,
   "id": "2453b1ba-001a-406c-abc7-3c0f6271929f",
   "metadata": {},
   "outputs": [],
   "source": []
  }
 ],
 "metadata": {
  "kernelspec": {
   "display_name": "Python 3 (ipykernel)",
   "language": "python",
   "name": "python3"
  },
  "language_info": {
   "codemirror_mode": {
    "name": "ipython",
    "version": 3
   },
   "file_extension": ".py",
   "mimetype": "text/x-python",
   "name": "python",
   "nbconvert_exporter": "python",
   "pygments_lexer": "ipython3",
   "version": "3.13.0"
  }
 },
 "nbformat": 4,
 "nbformat_minor": 5
}
