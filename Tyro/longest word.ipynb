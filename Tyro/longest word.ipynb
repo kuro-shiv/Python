{
 "cells": [
  {
   "cell_type": "code",
   "execution_count": 5,
   "id": "8fa484eb-4741-4622-8579-01d6ae1bc9a9",
   "metadata": {},
   "outputs": [
    {
     "name": "stdout",
     "output_type": "stream",
     "text": [
      "transitioning\n"
     ]
    }
   ],
   "source": [
    "def LongestWord(sen):\n",
    "  longest = \"\" \n",
    "  longestCount = 0\n",
    "  for x in sen.split():\n",
    "      tempCount = 0\n",
    "      for y in x:\n",
    "         if y.isalpha():\n",
    "            tempCount += 1 \n",
    "      if tempCount > longestCount:\n",
    "          longestCount = tempCount\n",
    "          longest = x\n",
    "  return longest\n",
    "\n",
    "\n",
    "sen =\"A paragraph is a group of sentences that are related to a central idea or topic. It typically begins with a topic sentence that introduces the main point, followed by supporting sentences that elaborate on or explain the idea. Each sentence in the paragraph is connected to the others, forming a coherent unit of thought. A well-written paragraph usually ends with a concluding sentence, summarizing the key point or transitioning to the next paragraph. Good paragraphs are clear, focused, and concise, and they help the reader understand and follow the writer’s ideas.\"\n",
    "print(LongestWord(sen))"
   ]
  },
  {
   "cell_type": "code",
   "execution_count": null,
   "id": "5fc196ac-3c39-4546-90dd-50dc79f6bf47",
   "metadata": {},
   "outputs": [],
   "source": []
  }
 ],
 "metadata": {
  "kernelspec": {
   "display_name": "Python 3 (ipykernel)",
   "language": "python",
   "name": "python3"
  },
  "language_info": {
   "codemirror_mode": {
    "name": "ipython",
    "version": 3
   },
   "file_extension": ".py",
   "mimetype": "text/x-python",
   "name": "python",
   "nbconvert_exporter": "python",
   "pygments_lexer": "ipython3",
   "version": "3.13.0"
  }
 },
 "nbformat": 4,
 "nbformat_minor": 5
}
